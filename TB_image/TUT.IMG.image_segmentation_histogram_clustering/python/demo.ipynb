{
 "cells": [
  {
   "cell_type": "code",
   "execution_count": null,
   "metadata": {},
   "outputs": [],
   "source": [
    "#!/usr/bin/env python3\n",
    "# -*- coding: utf-8 -*-\n",
    "\"\"\"\n",
    "Created on Wed Nov  7 16:44:14 2018\n",
    "\n",
    "@author: yann\n",
    "\"\"\"\n",
    "\n",
    "import segmentation\n",
    "\n",
    "import kmeans\n",
    "\n",
    "import kmeans_image"
   ]
  }
 ],
 "metadata": {},
 "nbformat": 4,
 "nbformat_minor": 2
}
