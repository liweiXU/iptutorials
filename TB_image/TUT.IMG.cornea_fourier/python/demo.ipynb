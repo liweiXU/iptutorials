{
 "cells": [
  {
   "cell_type": "code",
   "execution_count": null,
   "metadata": {},
   "outputs": [],
   "source": [
    "%matplotlib inline\n",
    "# -*- coding: utf-8 -*-\n",
    "\"\"\"\n",
    "Created on Wed Aug 21 09:39:11 2019\n",
    "\n",
    "@author: yann\n",
    "\"\"\"\n",
    "\n",
    "import introduction_fft\n",
    "\n",
    "import filtering\n",
    "\n",
    "import cornee"
   ]
  }
 ],
 "metadata": {},
 "nbformat": 4,
 "nbformat_minor": 2
}
