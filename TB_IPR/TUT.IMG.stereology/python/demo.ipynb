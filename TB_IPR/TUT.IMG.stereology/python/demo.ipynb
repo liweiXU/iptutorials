{
 "cells": [
  {
   "cell_type": "code",
   "execution_count": null,
   "metadata": {},
   "outputs": [],
   "source": [
    "#!/usr/bin/env python3\n",
    "# -*- coding: utf-8 -*-\n",
    "\"\"\"\n",
    "Created on Mon Dec 11 15:09:32 2017\n",
    "\n",
    "@author: yann\n",
    "\"\"\"\n",
    "\n",
    "import disks\n",
    "import matplotlib.pyplot as plt\n",
    "import imageio\n",
    "\n",
    "I = disks.popDisks(50, 1000, 50)\n",
    "plt.imshow(I)\n",
    "plt.show()\n",
    "imageio.imwrite(\"disques.png\", 255*I.astype('uint8'))\n",
    "\n",
    "# Classical measurements of stereology\n",
    "disks.renderPopSpheres()\n",
    "# compute results\n",
    "disks.verifyAreaFraction()\n",
    "disks.verifyLengthPerArea()\n",
    "disks.verifyVolumeFraction()\n",
    "\n",
    "import section_disks"
   ]
  }
 ],
 "metadata": {},
 "nbformat": 4,
 "nbformat_minor": 2
}
